{
 "cells": [
  {
   "cell_type": "code",
   "execution_count": 1,
   "metadata": {},
   "outputs": [
    {
     "ename": "SyntaxError",
     "evalue": "Missing parentheses in call to 'print'. Did you mean print(result)? (<ipython-input-1-37608c1b0cf1>, line 14)",
     "output_type": "error",
     "traceback": [
      "\u001b[1;36m  File \u001b[1;32m\"<ipython-input-1-37608c1b0cf1>\"\u001b[1;36m, line \u001b[1;32m14\u001b[0m\n\u001b[1;33m    print result\u001b[0m\n\u001b[1;37m               ^\u001b[0m\n\u001b[1;31mSyntaxError\u001b[0m\u001b[1;31m:\u001b[0m Missing parentheses in call to 'print'. Did you mean print(result)?\n"
     ]
    }
   ],
   "source": [
    "#String Split and Join                                         #J Samrat Varun \n",
    "\n",
    "\n",
    "\n",
    "def split_and_join(line):\n",
    "    # write your code here\n",
    "    a = line.split(\" \")\n",
    "    a = \"-\".join(a)\n",
    "    return a\n",
    "\n",
    "if __name__ == '__main__':\n",
    "    line = raw_input()\n",
    "    result = split_and_join(line)\n",
    "    print result\n",
    "\n"
   ]
  },
  {
   "cell_type": "code",
   "execution_count": null,
   "metadata": {},
   "outputs": [],
   "source": [
    "#What's Your Name?\n",
    "def print_full_name(a, b):\n",
    "    print \"Hello\" , a ,b + \"! You just delved into python.\"\n",
    "    \n",
    "if __name__ == '__main__':\n",
    "    first_name = raw_input()\n",
    "    last_name = raw_input()\n",
    "    print_full_name(first_name, last_name)"
   ]
  },
  {
   "cell_type": "code",
   "execution_count": null,
   "metadata": {},
   "outputs": [],
   "source": [
    "#Mutations\n",
    "\n",
    "def mutate_string(string, position, character):\n",
    "    l = list(string)\n",
    "    l[position] = character\n",
    "    string = ''.join(l)\n",
    "    return string\n",
    "    \n",
    "\n",
    "if __name__ == '__main__':\n",
    "    s = raw_input()\n",
    "    i, c = raw_input().split()\n",
    "    s_new = mutate_string(s, int(i), c)\n",
    "    print s_new\n"
   ]
  },
  {
   "cell_type": "code",
   "execution_count": null,
   "metadata": {},
   "outputs": [],
   "source": [
    "#Find a string\n",
    "def count_substring(string, sub_string):\n",
    "    \n",
    "    count = 0\n",
    "    for i in range(len(string)-len(sub_string)+1):\n",
    "        if (string[i:i+len(sub_string)] == sub_string):\n",
    "            count += 1\n",
    "    return count\n",
    "if __name__ == '__main__':\n",
    "    string = raw_input().strip()\n",
    "    sub_string = raw_input().strip()\n",
    "    \n",
    "    count = count_substring(string, sub_string)\n",
    "    print count"
   ]
  },
  {
   "cell_type": "code",
   "execution_count": null,
   "metadata": {},
   "outputs": [],
   "source": [
    "#String Validators\n",
    "\n",
    "\n",
    "if __name__ == '__main__':\n",
    "    s = raw_input()\n",
    "    print(any(c.isalnum() for c in s))\n",
    "    print(any(c.isalpha() for c in s))\n",
    "    print(any(c.isdigit() for c in s))\n",
    "    print(any(c.islower() for c in s))\n",
    "    print(any(c.isupper() for c in s))\n",
    "\n"
   ]
  },
  {
   "cell_type": "code",
   "execution_count": null,
   "metadata": {},
   "outputs": [],
   "source": [
    "#Text Alignment\n",
    "\n",
    "\n",
    "thickness = int(input()) #This must be an odd number\n",
    "c = 'H'\n",
    "\n",
    "#Top Cone\n",
    "# replace  ______ To rjust |  ______ To  ljust\n",
    "for i in range(thickness):\n",
    "    print((c*i).rjust(thickness-1)+c+(c*i).ljust(thickness-1))\n",
    "\n",
    "#Top Pillars\n",
    "# replace ______ To center |  ______ To center\n",
    "for i in range(thickness+1):\n",
    "    print((c*thickness).center(thickness*2)+(c*thickness).center(thickness*6))\n",
    "\n",
    "#Middle Belt\n",
    "# replace ______ To center\n",
    "for i in range((thickness+1)//2):\n",
    "    print((c*thickness*5).center(thickness*6))    \n",
    "\n",
    "#Bottom Pillars\n",
    "# replace ______ To center |  ______ To center\n",
    "for i in range(thickness+1):\n",
    "    print((c*thickness).center(thickness*2)+(c*thickness).center(thickness*6))    \n",
    "\n",
    "#Bottom Cone\n",
    "# replace ______ To rjust |  ______ To ljust |  ______ To rjust\n",
    "for i in range(thickness):\n",
    "    print(((c*(thickness-i-1)).rjust(thickness)+c+(c*(thickness-i-1)).ljust(thickness)).rjust(thickness*6))"
   ]
  },
  {
   "cell_type": "code",
   "execution_count": null,
   "metadata": {},
   "outputs": [],
   "source": [
    "#Text Wrap\n",
    "\n",
    "\n",
    "import textwrap\n",
    "\n",
    "def wrap(string, max_width):\n",
    "    return textwrap.fill(string, max_width)\n",
    "\n",
    "if __name__ == '__main__':\n",
    "    string, max_width = raw_input(), int(raw_input())\n",
    "    result = wrap(string, max_width)\n",
    "    print result"
   ]
  },
  {
   "cell_type": "code",
   "execution_count": null,
   "metadata": {},
   "outputs": [],
   "source": [
    "#Designer Door Mat\n",
    "\n",
    "\n",
    "N, M = map(int,raw_input().split()) \n",
    "for i in xrange(1,N,2): \n",
    "    print ('.|.'*i).center(M,'-')\n",
    "print \"WELCOME\".center(M,'-')\n",
    "for i in xrange(N-2,-1,-2): \n",
    "    print ('.|.'*i).center(M,'-')\n"
   ]
  },
  {
   "cell_type": "code",
   "execution_count": null,
   "metadata": {},
   "outputs": [],
   "source": [
    "#Alphabet Rangoli\n",
    "\n",
    "\n",
    "import string\n",
    "alpha = string.ascii_lowercase\n",
    "\n",
    "def print_rangoli(size):\n",
    "    lines = []\n",
    "    for row in range(size):\n",
    "        to_print = \"-\".join(alpha[row:size])\n",
    "        lines.append(to_print[::-1] + to_print[1:])\n",
    "    width = len(lines[0])\n",
    "    \n",
    "    for row in range(size-1, 0, -1):\n",
    "        print(lines[row].center(width, '-'))\n",
    "        \n",
    "    for row in range(size):\n",
    "        print(lines[row].center(width, '-'))\n",
    "if __name__ == '__main__':\n",
    "    n = int(raw_input())\n",
    "    print_rangoli(n)"
   ]
  },
  {
   "cell_type": "code",
   "execution_count": null,
   "metadata": {},
   "outputs": [],
   "source": [
    "#Capitalize!\n",
    "\n",
    "\n",
    "port math\n",
    "import os\n",
    "import random\n",
    "import re\n",
    "import sys\n",
    "\n",
    "def solve(s):\n",
    "    for i in s.split():\n",
    "        s = s.replace(i,i.capitalize())\n",
    "    return s\n",
    "if __name__ == '__main__':\n",
    "    fptr = open(os.environ['OUTPUT_PATH'], 'w')\n",
    "\n",
    "    s = raw_input()\n",
    "\n",
    "    result = solve(s)\n",
    "\n",
    "    fptr.write(result + '\\n')\n",
    "\n",
    "    fptr.close()\n"
   ]
  },
  {
   "cell_type": "code",
   "execution_count": null,
   "metadata": {},
   "outputs": [],
   "source": [
    "#The Minion Game\n",
    "\n",
    "\n",
    "def minion_game(string):\n",
    "    vowels_list = set(['a','e','i','o','u','A','E','I','O','U'])\n",
    "    consonants = 0\n",
    "    vowels = 0\n",
    " \n",
    "    n = len(string)\n",
    "    for i, l in enumerate(string):\n",
    "        if l in vowels_list:\n",
    "            vowels += n-i\n",
    "        else:\n",
    "            consonants += n-i\n",
    " \n",
    "    if vowels == consonants:\n",
    "        print \"Draw\"\n",
    "    elif vowels > consonants:\n",
    "        print \"Kevin {}\".format(vowels)\n",
    "    else:\n",
    "        print \"Stuart {}\".format(consonants)\n",
    "if __name__ == '__main__':\n",
    "    s = raw_input()\n",
    "    minion_game(s)"
   ]
  },
  {
   "cell_type": "code",
   "execution_count": null,
   "metadata": {},
   "outputs": [],
   "source": [
    "#Merge the Tools!\n",
    "\n",
    "\n",
    "from collections import OrderedDict\n",
    "def merge_the_tools(string, k):\n",
    "    for i in range(0, len(string), k):\n",
    "        print(''.join(OrderedDict.fromkeys(string[i:i + k])))\n",
    "\n",
    "if __name__ == '__main__':\n",
    "    string, k = raw_input(), int(raw_input())\n",
    "    merge_the_tools(string, k)\n",
    "    "
   ]
  }
 ],
 "metadata": {
  "kernelspec": {
   "display_name": "Python 3",
   "language": "python",
   "name": "python3"
  },
  "language_info": {
   "codemirror_mode": {
    "name": "ipython",
    "version": 3
   },
   "file_extension": ".py",
   "mimetype": "text/x-python",
   "name": "python",
   "nbconvert_exporter": "python",
   "pygments_lexer": "ipython3",
   "version": "3.7.3"
  }
 },
 "nbformat": 4,
 "nbformat_minor": 2
}
